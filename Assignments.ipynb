{
 "cells": [
  {
   "cell_type": "code",
   "execution_count": 1,
   "metadata": {},
   "outputs": [
    {
     "name": "stdout",
     "output_type": "stream",
     "text": [
      "['honda', 'yamaha', 'suzuki']\n",
      "['honda', 'suzuki']\n"
     ]
    }
   ],
   "source": [
    "motorcycles = ['honda', 'yamaha', 'suzuki'] \n",
    "print(motorcycles)\n",
    "del motorcycles[1] \n",
    "print(motorcycles)\n"
   ]
  },
  {
   "cell_type": "code",
   "execution_count": 1,
   "metadata": {},
   "outputs": [
    {
     "name": "stdout",
     "output_type": "stream",
     "text": [
      "behari kabab\n",
      "organeo pizza\n",
      "Malai boti pizza\n",
      "\n",
      "\n",
      "My favourite pizza is Behari Kabab behari kabab pizza!\n",
      "My favourite pizza is Behari Kabab organeo pizza pizza!\n",
      "My favourite pizza is Behari Kabab Malai boti pizza pizza!\n",
      "\n",
      "I really love pizza!\n"
     ]
    }
   ],
   "source": [
    "#Chp 4\n",
    "#Example 4.1\n",
    "#Problem no 4.1 \n",
    "#4-1. Pizzas: Think of at least three kinds of your favorite pizza . Store these pizza names in a list, and then use a for loop to print the name of each pizza . •\tModify your for loop to print a sentence using the name of the pizza instead of printing just the name of the pizza . For each pizza you should have one line of output containing a simple statement like I like pepperoni pizza . •\tAdd a line at the end of your program, outside the for loop, that states how much you like pizza . The output should consist of three or more lines about the kinds of pizza you like and then an additional sentence, such as I really love pizza! \n",
    "#Code\n",
    "favorite_pizzas = ['behari kabab', 'organeo pizza', 'Malai boti pizza']\n",
    "\n",
    "# Print the names of all the pizzas.\n",
    "for pizza in favorite_pizzas:\n",
    "    print(pizza)\n",
    "\n",
    "print(\"\\n\")\n",
    "\n",
    "# Print a sentence about each pizza.\n",
    "for pizza in favorite_pizzas:\n",
    "    print(\"My favourite pizza is Behari Kabab \" + pizza + \" pizza!\")\n",
    "\n",
    "print(\"\\nI really love pizza!\")"
   ]
  },
  {
   "cell_type": "code",
   "execution_count": 3,
   "metadata": {},
   "outputs": [
    {
     "name": "stdout",
     "output_type": "stream",
     "text": [
      "1\n",
      "16\n",
      "81\n",
      "256\n",
      "625\n",
      "1296\n",
      "2401\n",
      "4096\n",
      "6561\n",
      "10000\n"
     ]
    }
   ],
   "source": [
    "# Example 4.9\n",
    "#  Cube Comprehension: Use a list comprehension to generate a list of the first 10 cubes .\n",
    "#code\n",
    "cubes = [number**4 for number in range(1,11)]\n",
    "\n",
    "for cube in cubes:\n",
    "    print(cube)\n"
   ]
  },
  {
   "cell_type": "code",
   "execution_count": null,
   "metadata": {},
   "outputs": [],
   "source": []
  },
  {
   "cell_type": "code",
   "execution_count": 4,
   "metadata": {},
   "outputs": [
    {
     "name": "stdout",
     "output_type": "stream",
     "text": [
      "Abdul Wahab, please come to dinner.\n",
      "Usama, please come to dinner.\n",
      "Ali, please come to dinner.\n"
     ]
    }
   ],
   "source": [
    "#3.4 example\n",
    "guests = ['Abdul Wahab', 'Usama', 'Ali']\n",
    "\n",
    "name = guests[0].title()\n",
    "print(name + \", please come to dinner.\")\n",
    "\n",
    "name = guests[1].title()\n",
    "print(name + \", please come to dinner.\")\n",
    "\n",
    "name = guests[2].title()\n",
    "print(name + \", please come to dinner.\")"
   ]
  },
  {
   "cell_type": "code",
   "execution_count": null,
   "metadata": {},
   "outputs": [],
   "source": []
  },
  {
   "cell_type": "code",
   "execution_count": 1,
   "metadata": {},
   "outputs": [
    {
     "name": "stdout",
     "output_type": "stream",
     "text": [
      "The last motorcycle I owned was a Suzuki.\n"
     ]
    }
   ],
   "source": [
    "motorcycles = ['honda', 'yamaha', 'suzuki'] \n",
    "last_owned = motorcycles.pop() \n",
    "print(\"The last motorcycle I owned was a \" + last_owned.title() + \".\")\n"
   ]
  }
 ],
 "metadata": {
  "interpreter": {
   "hash": "a9559a1ead048a3d801ce074dd60115ca5f9f281391630a1d74746b074873868"
  },
  "kernelspec": {
   "display_name": "Python 3.10.4 64-bit",
   "language": "python",
   "name": "python3"
  },
  "language_info": {
   "codemirror_mode": {
    "name": "ipython",
    "version": 3
   },
   "file_extension": ".py",
   "mimetype": "text/x-python",
   "name": "python",
   "nbconvert_exporter": "python",
   "pygments_lexer": "ipython3",
   "version": "3.10.4"
  },
  "orig_nbformat": 4
 },
 "nbformat": 4,
 "nbformat_minor": 2
}
