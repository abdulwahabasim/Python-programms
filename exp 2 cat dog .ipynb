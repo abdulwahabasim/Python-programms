{
 "cells": [
  {
   "cell_type": "code",
   "execution_count": 1,
   "metadata": {},
   "outputs": [
    {
     "ename": "FileNotFoundError",
     "evalue": "[Errno 2] No such file or directory: 'H:\\\\M. Phil(CS)\\\\Semester 1\\\\Machine Learningdog.0.jpg'",
     "output_type": "error",
     "traceback": [
      "\u001b[1;31m---------------------------------------------------------------------------\u001b[0m",
      "\u001b[1;31mFileNotFoundError\u001b[0m                         Traceback (most recent call last)",
      "\u001b[1;32mh:\\M. Phil(CS)\\Semester 1\\Machine Learning\\exp 2 cat dog .ipynb Cell 1'\u001b[0m in \u001b[0;36m<cell line: 6>\u001b[1;34m()\u001b[0m\n\u001b[0;32m     <a href='vscode-notebook-cell:/h%3A/M.%20Phil%28CS%29/Semester%201/Machine%20Learning/exp%202%20cat%20dog%20.ipynb#ch0000000?line=9'>10</a>\u001b[0m filename \u001b[39m=\u001b[39m folder \u001b[39m+\u001b[39m \u001b[39m'\u001b[39m\u001b[39mdog.\u001b[39m\u001b[39m'\u001b[39m \u001b[39m+\u001b[39m \u001b[39mstr\u001b[39m(i) \u001b[39m+\u001b[39m \u001b[39m'\u001b[39m\u001b[39m.jpg\u001b[39m\u001b[39m'\u001b[39m\n\u001b[0;32m     <a href='vscode-notebook-cell:/h%3A/M.%20Phil%28CS%29/Semester%201/Machine%20Learning/exp%202%20cat%20dog%20.ipynb#ch0000000?line=10'>11</a>\u001b[0m \u001b[39m# load image pixels\u001b[39;00m\n\u001b[1;32m---> <a href='vscode-notebook-cell:/h%3A/M.%20Phil%28CS%29/Semester%201/Machine%20Learning/exp%202%20cat%20dog%20.ipynb#ch0000000?line=11'>12</a>\u001b[0m image \u001b[39m=\u001b[39m imread(filename)\n\u001b[0;32m     <a href='vscode-notebook-cell:/h%3A/M.%20Phil%28CS%29/Semester%201/Machine%20Learning/exp%202%20cat%20dog%20.ipynb#ch0000000?line=12'>13</a>\u001b[0m \u001b[39m# plot raw pixel data\u001b[39;00m\n\u001b[0;32m     <a href='vscode-notebook-cell:/h%3A/M.%20Phil%28CS%29/Semester%201/Machine%20Learning/exp%202%20cat%20dog%20.ipynb#ch0000000?line=13'>14</a>\u001b[0m pyplot\u001b[39m.\u001b[39mimshow(image)\n",
      "File \u001b[1;32mh:\\M. Phil(CS)\\Semester 1\\Python Software\\lib\\site-packages\\matplotlib\\image.py:1560\u001b[0m, in \u001b[0;36mimread\u001b[1;34m(fname, format)\u001b[0m\n\u001b[0;32m   1558\u001b[0m                 response \u001b[39m=\u001b[39m io\u001b[39m.\u001b[39mBytesIO(response\u001b[39m.\u001b[39mread())\n\u001b[0;32m   1559\u001b[0m             \u001b[39mreturn\u001b[39;00m imread(response, \u001b[39mformat\u001b[39m\u001b[39m=\u001b[39mext)\n\u001b[1;32m-> 1560\u001b[0m \u001b[39mwith\u001b[39;00m img_open(fname) \u001b[39mas\u001b[39;00m image:\n\u001b[0;32m   1561\u001b[0m     \u001b[39mreturn\u001b[39;00m (_pil_png_to_float_array(image)\n\u001b[0;32m   1562\u001b[0m             \u001b[39mif\u001b[39;00m \u001b[39misinstance\u001b[39m(image, PIL\u001b[39m.\u001b[39mPngImagePlugin\u001b[39m.\u001b[39mPngImageFile) \u001b[39melse\u001b[39;00m\n\u001b[0;32m   1563\u001b[0m             pil_to_array(image))\n",
      "File \u001b[1;32mh:\\M. Phil(CS)\\Semester 1\\Python Software\\lib\\site-packages\\PIL\\Image.py:3068\u001b[0m, in \u001b[0;36mopen\u001b[1;34m(fp, mode, formats)\u001b[0m\n\u001b[0;32m   3065\u001b[0m     filename \u001b[39m=\u001b[39m fp\n\u001b[0;32m   3067\u001b[0m \u001b[39mif\u001b[39;00m filename:\n\u001b[1;32m-> 3068\u001b[0m     fp \u001b[39m=\u001b[39m builtins\u001b[39m.\u001b[39;49mopen(filename, \u001b[39m\"\u001b[39;49m\u001b[39mrb\u001b[39;49m\u001b[39m\"\u001b[39;49m)\n\u001b[0;32m   3069\u001b[0m     exclusive_fp \u001b[39m=\u001b[39m \u001b[39mTrue\u001b[39;00m\n\u001b[0;32m   3071\u001b[0m \u001b[39mtry\u001b[39;00m:\n",
      "\u001b[1;31mFileNotFoundError\u001b[0m: [Errno 2] No such file or directory: 'H:\\\\M. Phil(CS)\\\\Semester 1\\\\Machine Learningdog.0.jpg'"
     ]
    },
    {
     "data": {
      "image/png": "[encoded data removed]",
      "text/plain": [
       "<Figure size 432x288 with 1 Axes>"
      ]
     },
     "metadata": {
      "needs_background": "light"
     },
     "output_type": "display_data"
    }
   ],
   "source": [
    "from matplotlib import pyplot\n",
    "from matplotlib.image import imread\n",
    "# define location of dataset\n",
    "folder = 'H:\\M. Phil(CS)\\Semester 1\\Machine Learning\\Assignment'\n",
    "# plot first few images\n",
    "for i in range(9):\n",
    "\t# define subplot\n",
    "\tpyplot.subplot(330 + 1 + i)\n",
    "\t# define filename\n",
    "\tfilename = folder + 'dog.' + str(i) + '.jpg'\n",
    "\t# load image pixels\n",
    "\timage = imread(filename)\n",
    "\t# plot raw pixel data\n",
    "\tpyplot.imshow(image)\n",
    "# show the figure\n",
    "pyplot.show()"
   ]
  }
 ],
 "metadata": {
  "kernelspec": {
   "display_name": "Python 3.10.4 64-bit",
   "language": "python",
   "name": "python3"
  },
  "language_info": {
   "codemirror_mode": {
    "name": "ipython",
    "version": 3
   },
   "file_extension": ".py",
   "mimetype": "text/x-python",
   "name": "python",
   "nbconvert_exporter": "python",
   "pygments_lexer": "ipython3",
   "version": "3.10.4"
  },
  "orig_nbformat": 4,
  "vscode": {
   "interpreter": {
    "hash": "29669b3a8bea42eb8cec940f8fe969b266b343e15c20f3d507c5b925a91a3f8c"
   }
  }
 },
 "nbformat": 4,
 "nbformat_minor": 2
}
